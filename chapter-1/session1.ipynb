{
  "cells": [
    {
      "cell_type": "markdown",
      "metadata": {
        "id": "X9pm2-W3EmkF"
      },
      "source": [
        "# **Anagram**\n",
        "\n",
        "Write a function, anagrams, that takes in two strings as arguments. The function should return a boolean indicating whether or not the strings are anagrams. Anagrams are strings that contain the same characters, but in any order.\n",
        "\n",
        "\n",
        "\n",
        "```\n",
        "anagrams('restful', 'fluster') # -> True\n",
        "```\n",
        "\n",
        "\n",
        "```\n",
        "anagrams('cats', 'tocs') # -> False\n",
        "```\n",
        "\n",
        "\n",
        "```\n",
        "anagrams('monkeyswrite', 'newyorktimes') # -> True\n",
        "```\n",
        "\n",
        "\n",
        "```\n",
        "anagrams('paper', 'reapa') # -> False\n",
        "```\n",
        "\n",
        "\n",
        "```\n",
        "anagrams('elbow', 'below') # -> True\n",
        "```\n",
        "\n",
        "\n",
        "```\n",
        "anagrams('tax', 'taxi') # -> False\n",
        "```\n",
        "\n",
        "\n",
        "```\n",
        "anagrams('taxi', 'tax') # -> False\n",
        "```\n",
        "\n",
        "\n",
        "```\n",
        "anagrams('pp', 'oo') # -> false\n",
        "```\n"
      ]
    },
    {
      "cell_type": "code",
      "execution_count": null,
      "metadata": {
        "cellView": "form",
        "id": "jUXOUAY4GHBT"
      },
      "outputs": [],
      "source": [
        "# @title Anagram Solution\n",
        "\n",
        "# Solution 1\n",
        "def anagrams(s1, s2):\n",
        "  return char_count(s1) == char_count(s2)\n",
        "\n",
        "def char_count(s):\n",
        "  count = {}\n",
        "\n",
        "  for char in s:\n",
        "    if char not in count:\n",
        "      count[char] = 0\n",
        "    count[char] += 1\n",
        "\n",
        "  return count\n",
        "\n",
        "\n",
        "# Solution 2\n",
        "# from collections import Counter\n",
        "\n",
        "# def anagrams(s1, s2):\n",
        "#   return Counter(s1) == Counter(s2)\n"
      ]
    },
    {
      "cell_type": "markdown",
      "metadata": {
        "id": "c6TzuFNwJXeC"
      },
      "source": [
        "# **Most frequent char**\n",
        "\n",
        "Write a function, most_frequent_char, that takes in a string as an argument. The function should return the most frequent character of the string. If there are ties, return the character that appears earlier in the string.\n",
        "\n",
        "You can assume that the input string is non-empty.\n",
        "\n",
        "```\n",
        "most_frequent_char('bookeeper') # -> 'e'\n",
        "```\n",
        "\n",
        "```\n",
        "most_frequent_char('david') # -> 'd'\n",
        "```\n",
        "\n",
        "```\n",
        "most_frequent_char('abby') # -> 'b'\n",
        "```\n",
        "\n",
        "```\n",
        "most_frequent_char('potato') # -> 'o'\n",
        "```"
      ]
    },
    {
      "cell_type": "code",
      "execution_count": 43,
      "metadata": {},
      "outputs": [],
      "source": [
        "from collections import Counter\n",
        "# def most_frequent_char(s):\n",
        "#     count = {}\n",
        "#     max_char = None\n",
        "#     for ch in s:\n",
        "#         if ch not in count:\n",
        "#             count[ch] = 0\n",
        "#         count[ch] += 1\n",
        "#         if max_char is None or count[ch] > count[max_char]:\n",
        "#             max_char = ch\n",
        "#     print(max_char)\n",
        "def most_frequent_char(s):\n",
        "    count = Counter(s)\n",
        "    element = iter(count.items())\n",
        "    print(next(element)[0])\n",
        "    print(next(element))\n",
        "    print(next(element))\n"
      ]
    },
    {
      "cell_type": "code",
      "execution_count": 44,
      "metadata": {},
      "outputs": [
        {
          "name": "stdout",
          "output_type": "stream",
          "text": [
            "4\n",
            "('7', 2)\n",
            "('e', 3)\n"
          ]
        }
      ],
      "source": [
        "most_frequent_char(\"47e7xwee\")"
      ]
    },
    {
      "cell_type": "code",
      "execution_count": null,
      "metadata": {
        "cellView": "form",
        "id": "NT_x4wDKKA9V"
      },
      "outputs": [],
      "source": [
        "# @title Most frequent char Solution\n",
        "\n",
        "# Solution 1\n",
        "def most_frequent_char(s):\n",
        "  count = {}\n",
        "  for char in s:\n",
        "    if char not in count:\n",
        "      count[char] = 0\n",
        "    count[char] += 1\n",
        "\n",
        "  best = None\n",
        "  for char in s:\n",
        "    if best is None or count[char] > count[best]:\n",
        "      best = char\n",
        "  return best\n",
        "\n",
        "# Solution 2\n",
        "# from collections import Counter\n",
        "\n",
        "# def most_frequent_char(s):\n",
        "#   count = Counter(s)\n",
        "#   best = None\n",
        "#   for char in s:\n",
        "#     if best is None or count[char] > count[best]:\n",
        "#       best = char\n",
        "#   return best\n",
        "\n"
      ]
    },
    {
      "cell_type": "markdown",
      "metadata": {
        "id": "trg-5U9qLF9Z"
      },
      "source": [
        "# **Pair sum**\n",
        "\n",
        "Write a function, pair_sum, that takes in a list and a target sum as arguments. The function should return a tuple containing a pair of indices whose elements sum to the given target. The indices returned must be unique.\n",
        "\n",
        "Be sure to return the indices, not the elements themselves.\n",
        "\n",
        "There is guaranteed to be one such pair that sums to the target\n",
        "\n",
        "```\n",
        "pair_sum([3, 2, 5, 4, 1], 8) # -> (0, 2)\n",
        "```\n",
        "\n",
        "\n",
        "```\n",
        "pair_sum([4, 7, 9, 2, 5, 1], 5) # -> (0, 5)\n",
        "```\n",
        "\n",
        "\n",
        "```\n",
        "pair_sum([4, 7, 9, 2, 5, 1], 3) # -> (3, 5)\n",
        "```\n",
        "\n",
        "\n",
        "```\n",
        "pair_sum([1, 6, 7, 2], 13) # -> (1, 2)\n",
        "```\n",
        "\n",
        "\n",
        "```\n",
        "pair_sum([9, 9], 18) # -> (0, 1)\n",
        "```\n",
        "\n",
        "```\n",
        "numbers = [ i for i in range(1, 6001) ]\n",
        "pair_sum(numbers, 11999) # -> (5998, 5999)\n",
        "```"
      ]
    },
    {
      "cell_type": "code",
      "execution_count": 52,
      "metadata": {},
      "outputs": [
        {
          "name": "stdout",
          "output_type": "stream",
          "text": [
            "(5998, 5999)\n"
          ]
        }
      ],
      "source": [
        "def pair_sum(numbers, target_sum):\n",
        "    dict = {}\n",
        "    for index, value in enumerate(numbers):\n",
        "        target = target_sum - value\n",
        "        if target in dict:\n",
        "            return (dict[target], index)\n",
        "        dict[value] = index\n",
        "numbers = [ i for i in range(1, 6001) ]\n",
        "\n",
        "print(pair_sum(numbers, 11999))"
      ]
    },
    {
      "cell_type": "code",
      "execution_count": 1,
      "metadata": {
        "cellView": "form",
        "id": "V3i6rVxgLk_1"
      },
      "outputs": [],
      "source": [
        "# @title Default title text\n",
        "def pair_sum(numbers, target_sum):\n",
        "  dict = {}\n",
        "  for i in range(len(numbers)):\n",
        "    compliment = target_sum - numbers[i]\n",
        "    compliment_index = dict.get(compliment)\n",
        "    if compliment_index:\n",
        "      return (compliment_index, i)\n",
        "    dict[numbers[i]] = i\n",
        "\n",
        "# def pair_sum(numbers, target_sum):\n",
        "#   previous_numbers = {}\n",
        "\n",
        "#   for index, num in enumerate(numbers):\n",
        "#     complement = target_sum - num\n",
        "\n",
        "#     if complement in previous_numbers:\n",
        "#       return (index, previous_numbers[complement])\n",
        "\n",
        "#     previous_numbers[num] = index\n",
        "\n"
      ]
    },
    {
      "cell_type": "code",
      "execution_count": 3,
      "metadata": {
        "colab": {
          "base_uri": "https://localhost:8080/"
        },
        "id": "jC1MyJFqOQYt",
        "outputId": "a7a378a2-cdb9-445f-d850-c05c2392876a"
      },
      "outputs": [
        {
          "name": "stdout",
          "output_type": "stream",
          "text": [
            "(5998, 5999)\n"
          ]
        }
      ],
      "source": [
        "print(pair_sum(numbers, 11999))"
      ]
    },
    {
      "cell_type": "markdown",
      "metadata": {},
      "source": [
        "## compress\n",
        "\n",
        "Write a function, compress, that takes in a string as an argument. The function should return a compressed version of the string where consecutive occurrences of the same characters are compressed into the number of occurrences followed by the character. Single character occurrences should not be changed.\n",
        "```\n",
        "    aaa' compresses to '3a'\n",
        "    'cc' compresses to '2c'\n",
        "    't' should remain as 't'\n",
        "```\n",
        "\n",
        "```\n",
        "compress('ccaaatsss'); // -> '2c3at3s'\n",
        "```\n",
        "```\n",
        "compress('ssssbbz'); // -> '4s2bz'\n",
        "```\n",
        "```\n",
        "compress('nnneeeeeeeeeeeezz'); // -> '3n12e2z'\n",
        "```\n",
        "```\n",
        "compress('yyyyyyyyyyyyyyyyyyyyyyyyyyyyyyyyyyyyyyyyyyyyyyyyyyyyyyyyyyyyyyyyyyyyyyyyyyyyyyyyyyyyyyyyyyyyyyyyyyyyyyyyyyyyyyyyyyyyyyyyyyyyyyy'); \n",
        "// -> '127y'\n",
        "```"
      ]
    },
    {
      "cell_type": "code",
      "execution_count": 58,
      "metadata": {},
      "outputs": [
        {
          "name": "stdout",
          "output_type": "stream",
          "text": [
            "3n12e2z\n",
            "127y\n"
          ]
        }
      ],
      "source": [
        "def compress(s):\n",
        "    dict = {}\n",
        "    for ch in s:\n",
        "        if not dict.get(ch):\n",
        "            dict[ch] = 0\n",
        "        dict[ch] += 1\n",
        "    for item in dict:\n",
        "        print(f\"{dict[item]}{item}\", end='')\n",
        "    print()\n",
        "compress(\"nnneeeeeeeeeeeezz\")\n",
        "compress(\"yyyyyyyyyyyyyyyyyyyyyyyyyyyyyyyyyyyyyyyyyyyyyyyyyyyyyyyyyyyyyyyyyyyyyyyyyyyyyyyyyyyyyyyyyyyyyyyyyyyyyyyyyyyyyyyyyyyyyyyyyyyyyyy\")"
      ]
    },
    {
      "cell_type": "markdown",
      "metadata": {},
      "source": [
        "## intersection\n",
        "\n",
        "Write a function, intersection, that takes in two arrays, a,b, as arguments. The function should return a new array containing elements that are in both of the two arrays.\n",
        "\n",
        "You may assume that each input array does not contain duplicate elements.\n",
        "```\n",
        "intersection([4,2,1,6], [3,6,9,2,10]) // -> [2,6]\n",
        "\n",
        "intersection([2,4,6], [4,2]) // -> [2,4]\n",
        "\n",
        "intersection([4,2,1], [1,2,4,6]) // -> [1,2,4]\n",
        "\n",
        "intersection([0,1,2], [10,11]) // -> []\n",
        "\n",
        "const a = [];\n",
        "const b = [];\n",
        "for (let i = 0; i < 50000; i += 1) {\n",
        "  a.push(i);\n",
        "  b.push(i);\n",
        "}\n",
        "intersection(a, b) // -> [0,1,2,3,..., 49999]\n",
        "```"
      ]
    },
    {
      "cell_type": "code",
      "execution_count": 63,
      "metadata": {},
      "outputs": [
        {
          "name": "stdout",
          "output_type": "stream",
          "text": [
            "{0, 1, 2, 3, 4, 5, 37, 7, 8}\n",
            "{1, 3, 4, 5, 7, 8}\n"
          ]
        }
      ],
      "source": [
        "def intersection(a, b):\n",
        "    setA = set(a)\n",
        "    setB = set(b)\n",
        "    \n",
        "\n",
        "intersection([4,5,2,4,0,2,1,4,5,2,4,0,2,1,7,8,4,5,7,1,37,8,4,5,7,1,3], [7,8,4,5,7,1,3])"
      ]
    },
    {
      "cell_type": "markdown",
      "metadata": {},
      "source": [
        "## five sort\n",
        "\n",
        "Write a function, fiveSort, that takes in an array of numbers as an argument. The function should rearrange elements of the array such that all 5s appear at the end. Your function should perform this operation in-place by mutating the original array. The function should return the array.\n",
        "\n",
        "Elements that are not 5 can appear in any order in the output, as long as all 5s are at the end of the array.\n",
        "```\n",
        "fiveSort([12, 5, 1, 5, 12, 7]);\n",
        "// -> [12, 7, 1, 12, 5, 5] \n",
        "\n",
        "fiveSort([5, 1, 2, 5, 5, 3, 2, 5, 1, 5, 5, 5, 4, 5]);\n",
        "// -> [4, 1, 2, 1, 2, 3, 5, 5, 5, 5, 5, 5, 5, 5] \n",
        "\n",
        "const fives = new Array(20000).fill(5);\n",
        "const fours = new Array(20000).fill(4);\n",
        "const nums = [...fives, ...fours];\n",
        "fiveSort(nums);\n",
        "// twenty-thousand 4s followed by twenty-thousand 5s\n",
        "// -> [4, 4, 4, 4, ..., 5, 5, 5, 5]\n",
        "```"
      ]
    },
    {
      "cell_type": "markdown",
      "metadata": {},
      "source": []
    }
  ],
  "metadata": {
    "colab": {
      "authorship_tag": "ABX9TyMCb6A1zgqCZe9oZimSCTG8",
      "include_colab_link": true,
      "provenance": []
    },
    "kernelspec": {
      "display_name": "Python 3",
      "name": "python3"
    },
    "language_info": {
      "codemirror_mode": {
        "name": "ipython",
        "version": 3
      },
      "file_extension": ".py",
      "mimetype": "text/x-python",
      "name": "python",
      "nbconvert_exporter": "python",
      "pygments_lexer": "ipython3",
      "version": "3.9.1"
    }
  },
  "nbformat": 4,
  "nbformat_minor": 0
}
